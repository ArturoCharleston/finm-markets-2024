{
 "cells": [
  {
   "cell_type": "markdown",
   "id": "928a5673-b03f-4d49-b1ce-fb1614988e79",
   "metadata": {},
   "source": [
    "# Homework 4 - Commodity Futures\n",
    "\n",
    "## Markets\n",
    "\n",
    "### UChicago Financial Mathematics\n",
    "\n",
    "#### September 2024\n",
    "\n",
    "* Mark Hendricks\n",
    "* hendricks@uchicago.edu\n",
    "\n",
    "#### This assignment is not submitted, graded, or for credit. "
   ]
  },
  {
   "cell_type": "markdown",
   "id": "f5588c24",
   "metadata": {},
   "source": [
    "$\\newcommand{\\rUSD}{r^{\\text{US}}}$\n",
    "$\\newcommand{\\rGBP}{r^{\\text{GBP}}}$\n",
    "$\\newcommand{\\rxGBP}{\\widetilde{r}^{\\text{GBP}}}$"
   ]
  },
  {
   "cell_type": "markdown",
   "id": "a15a6854-7581-44e0-84d8-06458c659abb",
   "metadata": {},
   "source": [
    "***"
   ]
  },
  {
   "cell_type": "markdown",
   "id": "f4a75896",
   "metadata": {},
   "source": [
    "# 1 Rolling Futures"
   ]
  },
  {
   "cell_type": "markdown",
   "id": "339fb66f",
   "metadata": {},
   "source": [
    "Use the data in `data/futures_data.xlsx`"
   ]
  },
  {
   "cell_type": "markdown",
   "id": "0d21fc30",
   "metadata": {},
   "source": [
    "### 1.1\n",
    "\n",
    "The time-series data in `futures timeseries` has price data on 4 different crude oil contracts.\n",
    "\n",
    "Consider a **roll** strategy. \n",
    "* Suppose on `March 22, 2024` an investor buys 100 contracts of oil futures, `CLK4`, noting the contract size listed in the `futures contracts` tab. \n",
    "\n",
    "* On the final day of the contract's reported price, (`April 22, 2024` in this case,) sell the contracts at the listed price. Keep track of the daily profit or loss.\n",
    "* **Roll** into the next contract, `CLM4`, buying in at the `April 22, 2024` price.\n",
    "* Hold this until selling on `May 21, 2024`. \n",
    "* After selling, still at the end of May 21, purchase the `CLN4` contract.\n",
    "* Hold this through `June 20, 2024`, liquidating at those prices. \n",
    "* Finally, roll into `CLQ4` and hold until closing out at the end of the timeseries, on `July 15, 2024`.\n",
    "\n",
    "Note,\n",
    "* At each roll, buy 100 contracts.\n",
    "* There is no price data on a handful of dates. Just ignore these dates and consider the market is closed.\n",
    "\n",
    "#### Calculate the timeseries of cumulative profit and loss.\n",
    "* Do not consider as a loss (profit) the additional capital contributed (withdrawn) at the roll.\n",
    "* Report the mean daily profit as well as the cumulative total.\n",
    "* Plot the sereis of profit and loss."
   ]
  },
  {
   "cell_type": "markdown",
   "id": "a3345e1c",
   "metadata": {},
   "source": [
    "### 1.2\n",
    "\n",
    "From the tab `roll conventions CL`, use the series, `CL1`. \n",
    "\n",
    "Assume this is a proxy for the stack and roll strategy above.\n",
    "* scale it by the contract size (100)\n",
    "* calculate the day-over-day differences as profit (loss).\n",
    "\n",
    "Does it match your answer in 1.1? Why not?"
   ]
  },
  {
   "cell_type": "markdown",
   "id": "0f866a2c",
   "metadata": {},
   "source": [
    "***"
   ]
  },
  {
   "cell_type": "markdown",
   "id": "0b975562",
   "metadata": {},
   "source": [
    "# 2. Margin and Capital"
   ]
  },
  {
   "cell_type": "markdown",
   "id": "e8934122",
   "metadata": {},
   "source": [
    "Reconsider the stack and roll of Problem 1, but this time keep track of the margin account. Assume that...\n",
    "* when purchasing the contracts, an initial margin of \\\\$6,600 per contract is paid into the margin account, (not the entire purchase price!)\n",
    "* if the margin account goes below \\\\$6,000 per contract, you must pay additional capital to raise the margin back to \\\\$6,000 per contract..\n",
    "* if the margin account goes above \\\\$7,200 per contract, you take out the additional capital to lower the margin back to \\\\$7,200 per contract. \n",
    "* at the roll, add in (or take out) capital such that the margin account resets to the initial margin of \\\\$6,600 per contract.\n",
    "\n",
    "*This is a conceptually simple problem, but setting it up correctly in python may be challenging. Consider starting with a spreadsheet.*"
   ]
  },
  {
   "cell_type": "markdown",
   "id": "f5098746",
   "metadata": {},
   "source": [
    "### 2.1\n",
    "\n",
    "Plot the timeseries of the margin account.\n",
    "\n",
    "How many times is there a margin call to continue the contract position? (This does not include rolling contracts.)"
   ]
  },
  {
   "cell_type": "markdown",
   "id": "e541a161",
   "metadata": {},
   "source": [
    "### 2.2\n",
    "\n",
    "Consider two measures of total return on this strategy.\n",
    "\n",
    "$$\\text{return} = \\frac{\\text{total profit}}{\\text{initial capital}}$$\n",
    "\n",
    "where we measure the \"initial capital\" as...\n",
    "* total price of the 100 contracts of \"CLH4\" as paid in 1.1\n",
    "* initial margin for the 100 contracts, as calculated in 1.3.\n",
    "\n",
    "Ignore the fact that additional capital may have been paid in on the rolls.\n",
    "\n",
    "How does the margin system change the total return?"
   ]
  },
  {
   "cell_type": "markdown",
   "id": "dc2f5f9e",
   "metadata": {},
   "source": [
    "### 2.3\n",
    "\n",
    "Reconsider the calculation of profit from Problem 1.\n",
    "\n",
    "When the contract rolls, the investor may need to pay in additional capital to keep the 100 contracts. Consider this a loss.\n",
    "\n",
    "On the other hand, if rolling into the new contract frees up capital, consider this a profift.\n",
    "\n",
    "1. How does this change the total profit (loss)?\n",
    "1. How does this change the total return defined above?\n",
    "1. Do you think this roll capital should be considered P&L (profit and loss?)"
   ]
  },
  {
   "cell_type": "markdown",
   "id": "8e2e1627",
   "metadata": {},
   "source": [
    "***"
   ]
  }
 ],
 "metadata": {
  "hide_input": false,
  "kernelspec": {
   "display_name": "Python 3 (ipykernel)",
   "language": "python",
   "name": "python3"
  },
  "language_info": {
   "codemirror_mode": {
    "name": "ipython",
    "version": 3
   },
   "file_extension": ".py",
   "mimetype": "text/x-python",
   "name": "python",
   "nbconvert_exporter": "python",
   "pygments_lexer": "ipython3",
   "version": "3.9.6"
  },
  "toc": {
   "base_numbering": 1,
   "nav_menu": {},
   "number_sections": false,
   "sideBar": true,
   "skip_h1_title": false,
   "title_cell": "Table of Contents",
   "title_sidebar": "Contents",
   "toc_cell": false,
   "toc_position": {},
   "toc_section_display": true,
   "toc_window_display": false
  }
 },
 "nbformat": 4,
 "nbformat_minor": 5
}
