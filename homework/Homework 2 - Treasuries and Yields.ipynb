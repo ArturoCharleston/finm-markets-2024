{
 "cells": [
  {
   "cell_type": "markdown",
   "id": "f7605588",
   "metadata": {
    "heading_collapsed": true
   },
   "source": [
    "# Homework 2\n",
    "\n",
    "## Markets\n",
    "\n",
    "### UChicago Financial Mathematics\n",
    "\n",
    "#### September 2024\n",
    "\n",
    "* Mark Hendricks\n",
    "* hendricks@uchicago.edu\n",
    "\n",
    "#### This assignment is not submitted, graded, or for credit. \n",
    "Rather, it is assigned for learning purposes."
   ]
  },
  {
   "cell_type": "markdown",
   "id": "de69be79",
   "metadata": {
    "heading_collapsed": true
   },
   "source": [
    "# Data\n",
    "\n",
    "Use the data file `../data/treasury_quotes_<DATE>.xlsx`.\n",
    "* replace `<DATE>` with `2024-05-31`\n",
    "* consider this the date at the time of valuation."
   ]
  },
  {
   "cell_type": "markdown",
   "id": "85219513-4eb7-4ab5-b035-96628789f8f3",
   "metadata": {},
   "source": [
    "***"
   ]
  },
  {
   "cell_type": "markdown",
   "id": "da1e6d89",
   "metadata": {
    "heading_collapsed": true
   },
   "source": [
    "# 1. Treasury Debt Composition"
   ]
  },
  {
   "cell_type": "markdown",
   "id": "e25baaab-18af-403c-ba9c-f85329c4294b",
   "metadata": {},
   "source": [
    "### Data\n",
    "Use the data in the `quotes` tab."
   ]
  },
  {
   "cell_type": "markdown",
   "id": "0a79f5d5",
   "metadata": {
    "hidden": true
   },
   "source": [
    "## 1.1\n",
    "Plot the total amount of outstanding debt maturing at each date\n",
    "\n",
    "* Do this for `total size`, as that is listed for T-bills.\n",
    "* (You could also examine `public size`, but that will exclude T-bills.)\n",
    "\n",
    "Tip: `.pivot_table()` may be useful.\n",
    "\n",
    "## 1.2\n",
    "Plot the amount of outstanding debt maturing at each date, segmented by bonds, notes, TIPS.\n",
    "\n",
    "## 1.3\n",
    "Report the total outstanding debt (summed over all maturity dates,) segmented by bonds, notes, TIPS.\n",
    "\n",
    "## 1.4\n",
    "Make a pie chart of this total number (reported in 1.3.) "
   ]
  },
  {
   "cell_type": "markdown",
   "id": "5c2d8872-94c5-4d66-b17f-f56f036b2798",
   "metadata": {
    "hidden": true
   },
   "source": [
    "## 1.5\n",
    "\n",
    "Calculate the time-to-maturity (relative to the quoted date) for each issue.\n",
    "\n",
    "Report the summary statistics of these time-to-maturities. \n",
    "\n",
    "Consider using `.describe()`"
   ]
  },
  {
   "cell_type": "markdown",
   "id": "ed8520b8-b127-429d-8653-a87fa45fe0d1",
   "metadata": {},
   "source": [
    "***"
   ]
  },
  {
   "cell_type": "markdown",
   "id": "ddad2f26",
   "metadata": {
    "heading_collapsed": true
   },
   "source": [
    "# 2 YTM and Price"
   ]
  },
  {
   "cell_type": "markdown",
   "id": "c3d2cdf0-66a8-4f47-8c6b-7de62089775e",
   "metadata": {},
   "source": [
    "The problems in this section ask you to calculate the **yield-to-maturity (YTM)** of various bonds.\n",
    "\n",
    "You will need to use a nonlinear solver to solve for the YTM.\n",
    "\n",
    "For any given bond, YTM ($y$) solves...\n",
    "\n",
    "$$p = \\sum_{i=1}^{2n}\\frac{Fc/2}{(1+y/2)^i} + \\frac{F}{(1+y/2)^{2n}}$$\n",
    "\n",
    "where\n",
    "* $p$ is the bond's price.\n",
    "* $n$ is the number of years to maturity\n",
    "* $c$ is the coupon rate (a percentage)\n",
    "* $F$ is the face value. Use $F=100$\n",
    "\n",
    "#### Solving for YTM\n",
    "Consider using `fsolve` to solve the yield implicitly from the nonlinear equation. This function is imported with...\n",
    "\n",
    "`from scipy.optimize import fsolve`"
   ]
  },
  {
   "cell_type": "markdown",
   "id": "9b8e4f61-7efa-4a96-afb2-2b142e061a28",
   "metadata": {
    "hidden": true
   },
   "source": [
    "## 2.1\n",
    "\n",
    "Consider a semiannual bond with the following stylized parameters:\n",
    "* time-to-maturity of 30 years\n",
    "* coupon rate: 3%\n",
    "* Face value of 100\n",
    "\n",
    "1. Assume the YTM is 5%. Calculate the price.\n",
    "1. Assume the price is 87. Calculate the YTM."
   ]
  },
  {
   "cell_type": "markdown",
   "id": "1d7238c9-2da3-47ab-9b56-f22707d55bad",
   "metadata": {},
   "source": [
    "## 2.2\n",
    "\n",
    "### Data\n",
    "Use the data in the `selected quotes` tab.\n",
    "* It gives treasury bond data for various maturities, spaced roughly six months apart.\n",
    "* Feel free to approximate the time-to-maturity to be exactly semiannually if that is easier for the problem below.\n",
    "* Use the `price` column for the price data in the YTM formula. (No need to worry about \"dirty\" price, bid, ask, nor accrued interest.)"
   ]
  },
  {
   "cell_type": "markdown",
   "id": "6327a1d5-2d68-4536-898d-45cee026936a",
   "metadata": {},
   "source": [
    "1. Calculate the yield-to-maturity for each issue. How close are your calculations to the provided column `ytm`?\n",
    "\n",
    "1. Plot the time-to-maturity (TTM) against the calculated YTM."
   ]
  },
  {
   "cell_type": "markdown",
   "id": "90cbbc2d-d50a-487d-a5dc-f7b0b9374155",
   "metadata": {},
   "source": [
    "***"
   ]
  },
  {
   "cell_type": "markdown",
   "id": "a5e81cd7-ef84-4ee4-9bbd-0cd9897df3ba",
   "metadata": {},
   "source": [
    "# 3. Extra\n",
    "\n",
    "If you would like to go further with computing yields, try these problems."
   ]
  },
  {
   "cell_type": "markdown",
   "id": "364db0e9-8901-45b9-abd2-e07d0d9c316f",
   "metadata": {},
   "source": [
    "### Data\n",
    "Use the data in the `selected quotes` tab.\n",
    "\n",
    "Focus on the nominal securities. \n",
    "* Exclude any row with `type` of `TIPS note` or `TIPS bond`."
   ]
  },
  {
   "cell_type": "markdown",
   "id": "b6d52ef5-a2f8-4259-95f9-798f7b14e382",
   "metadata": {},
   "source": [
    "## 3.1\n",
    "Plot the time-to-maturity against the provided YTM.\n",
    "\n",
    "## 3.2\n",
    "\n",
    "1. Calculate the YTM of each (nominal) bond issue in the data set. \n",
    "\n",
    "1. Report how far your YTM calculation is from those reported in the data set.\n",
    "\n",
    "1. Report your calculated YTM for the issues where the dataset does not provide a YTM.\n",
    "\n",
    "\n",
    "## 3.3\n",
    "\n",
    "For the Treasury bills, calculate the **discount yields**.\n",
    "\n",
    "Identify the T-bills using `type`=`bill` or looking for `cpnrate` of 0."
   ]
  },
  {
   "cell_type": "markdown",
   "id": "499cc90b-9d44-4693-b403-d5ae4ba73625",
   "metadata": {},
   "source": [
    "***"
   ]
  }
 ],
 "metadata": {
  "hide_input": false,
  "kernelspec": {
   "display_name": "Python 3 (ipykernel)",
   "language": "python",
   "name": "python3"
  },
  "language_info": {
   "codemirror_mode": {
    "name": "ipython",
    "version": 3
   },
   "file_extension": ".py",
   "mimetype": "text/x-python",
   "name": "python",
   "nbconvert_exporter": "python",
   "pygments_lexer": "ipython3",
   "version": "3.9.6"
  },
  "toc": {
   "base_numbering": 1,
   "nav_menu": {},
   "number_sections": false,
   "sideBar": true,
   "skip_h1_title": false,
   "title_cell": "Table of Contents",
   "title_sidebar": "Contents",
   "toc_cell": false,
   "toc_position": {},
   "toc_section_display": true,
   "toc_window_display": false
  }
 },
 "nbformat": 4,
 "nbformat_minor": 5
}
